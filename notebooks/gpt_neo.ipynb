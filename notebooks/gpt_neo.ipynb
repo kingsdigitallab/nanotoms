{
  "nbformat": 4,
  "nbformat_minor": 0,
  "metadata": {
    "colab": {
      "name": "gpt-neo.ipynb",
      "provenance": [],
      "collapsed_sections": [],
      "machine_shape": "hm"
    },
    "kernelspec": {
      "name": "python3",
      "display_name": "Python 3"
    },
    "language_info": {
      "name": "python"
    },
    "accelerator": "GPU"
  },
  "cells": [
    {
      "cell_type": "code",
      "metadata": {
        "id": "QBvUIXItorY6"
      },
      "source": [
        "%%capture\n",
        "!pip install happytransformer"
      ],
      "execution_count": 1,
      "outputs": []
    },
    {
      "cell_type": "code",
      "metadata": {
        "id": "LjvhF70wowBF"
      },
      "source": [
        "import os\n",
        "\n",
        "from happytransformer import GENSettings, GENTrainArgs, HappyGeneration"
      ],
      "execution_count": 2,
      "outputs": []
    },
    {
      "cell_type": "code",
      "source": [
        "from google.colab import drive\n",
        "drive.mount('/content/drive')\n",
        "\n",
        "data_path = \"drive/My Drive/Colab Data/nanotoms\"\n",
        "model_path = os.path.join(data_path, \"gpt_neo_125M_nanotoms\")"
      ],
      "metadata": {
        "colab": {
          "base_uri": "https://localhost:8080/"
        },
        "id": "yAJdlCm9Oo1v",
        "outputId": "ac357a07-ba38-406e-c2df-3db5a32bd868"
      },
      "execution_count": 3,
      "outputs": [
        {
          "output_type": "stream",
          "name": "stdout",
          "text": [
            "Mounted at /content/drive\n"
          ]
        }
      ]
    },
    {
      "cell_type": "code",
      "metadata": {
        "id": "YLJMCEiXndDs",
        "colab": {
          "base_uri": "https://localhost:8080/"
        },
        "outputId": "63b6f54c-4597-49d0-c5f0-19b3327a8b40"
      },
      "source": [
        "load_pretained_model = os.path.exists(model_path)\n",
        "\n",
        "train = False #@param {type:\"boolean\"}\n",
        "\n",
        "if train:\n",
        "    data = os.path.join(data_path, \"descriptions.txt\")\n",
        "    \n",
        "    epochs = 5 #@param {type:\"slider\", min:1.0, max:10.0, step:0.5}\n",
        "\n",
        "    model.train(data, args=GENTrainArgs(num_train_epochs=epochs))\n",
        "\n",
        "    model.save(model_path)\n",
        "else:\n",
        "    if load_pretained_model:\n",
        "        model = HappyGeneration(load_path=model_path)\n",
        "    else:\n",
        "        model = HappyGeneration(\"GPT-NEO\", \"EleutherAI/gpt-neo-125M\")"
      ],
      "execution_count": 7,
      "outputs": [
        {
          "output_type": "stream",
          "name": "stderr",
          "text": [
            "01/14/2022 16:46:42 - INFO - happytransformer.happy_transformer -   Using model: cuda\n"
          ]
        }
      ]
    },
    {
      "cell_type": "code",
      "metadata": {
        "colab": {
          "base_uri": "https://localhost:8080/"
        },
        "id": "Q5h3iMRQv0X8",
        "outputId": "a2e1e078-8395-4703-a0b8-7733bcb04794"
      },
      "source": [
        "# https://happytransformer.com/text-generation/settings/\n",
        "prompt = \"Spoons chairs and hornbooks\" #@param {type:\"string\"}\n",
        "max_length =  500#@param {type:\"integer\", min: 1, max: 1000}\n",
        "top_k = 50 #@param {type:\"integer\"}\n",
        "temperature = 0.7 #@param {type:\"number\", min:0.0, max:1.0, step:0.1}\n",
        "\n",
        "if prompt:\n",
        "    gen_settings = GENSettings(\n",
        "        no_repeat_ngram_size=2,\n",
        "        do_sample=True,\n",
        "        top_k=top_k,\n",
        "        temperature=temperature\n",
        "    )\n",
        "    result = model.generate_text(prompt, args=gen_settings)\n",
        "\n",
        "    print(result.text)"
      ],
      "execution_count": 8,
      "outputs": [
        {
          "output_type": "stream",
          "name": "stderr",
          "text": [
            "Setting `pad_token_id` to `eos_token_id`:50256 for open-end generation.\n"
          ]
        },
        {
          "output_type": "stream",
          "name": "stdout",
          "text": [
            " have been around for a long time, but these chairsandbooks were a significant part of the early modern (LINKS).  These chairs were made byanes and were likely to be familiar pastime to those of middling status.  They\n"
          ]
        }
      ]
    }
  ]
}